{
 "cells": [
  {
   "cell_type": "code",
   "execution_count": null,
   "metadata": {},
   "outputs": [],
   "source": [
    "import pandas as pd\n",
    "import numpy as np\n",
    "import requests\n",
    "import json\n",
    "from pprint import pprint\n",
    "\n",
    "base_url = \"https://www.fishwatch.gov/api/species/\""
   ]
  },
  {
   "cell_type": "code",
   "execution_count": null,
   "metadata": {},
   "outputs": [],
   "source": [
    "request = requests.get(base_url)\n",
    "request"
   ]
  },
  {
   "cell_type": "code",
   "execution_count": null,
   "metadata": {},
   "outputs": [],
   "source": [
    "fish = {\"Species Name\": \"\", \"Management\": \"\", \"Harvest Type\": \"\", \"Habitat Impacts\": \"\", \n",
    "        \"Enviornmental Considerations\": \"\", \"Enviornmental Effects\": \"\", \"Farming Methods\": \"\"}\n",
    "fish_df=pd.DataFrame([])"
   ]
  },
  {
   "cell_type": "code",
   "execution_count": null,
   "metadata": {},
   "outputs": [],
   "source": [
    "#request = request.json()\n",
    "#pprint(request)"
   ]
  }
 ],
 "metadata": {
  "kernelspec": {
   "display_name": "PythonData",
   "language": "python",
   "name": "python3"
  },
  "language_info": {
   "name": "python",
   "version": "3.7.7 (default, May  6 2020, 11:45:54) [MSC v.1916 64 bit (AMD64)]"
  },
  "orig_nbformat": 4,
  "vscode": {
   "interpreter": {
    "hash": "7307517f52e844aa41d5b5716a717a37a30c47be37feab9f3c4e2248f37f36b5"
   }
  }
 },
 "nbformat": 4,
 "nbformat_minor": 2
}
